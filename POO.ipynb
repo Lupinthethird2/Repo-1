{
 "cells": [
  {
   "cell_type": "markdown",
   "metadata": {},
   "source": [
    "# Programación Orientada a Objetos\n",
    "\n",
    "La POO es un paradigma de la programación de computadores; esto hace referencia al conjunto de teorías, estándares, modelos y métodos que permiten organizar el conocimiento, proporcionando un medio bien definido para visualizar el dominio del problema e implementar en un lenguaje de programación la solución a ese problema.\n",
    "\n",
    "La POO se basa en el modelo objeto, donde el elemento principal es le objeto, el cual es una unidad que contiene todas sus características y comportamientos en sí misma, lo cual lo hace como un todo independiente, pero que se interrelaciona con objetos de su misma clase o de otras clase, como sucede en el mundo real.\n",
    "\n",
    "\n",
    "## Conceptos Fundamentales de la POO\n",
    "\n",
    "La programación orientada a objetos es una forma de programar que trata de encontrar una solución a estos problemas. Introduce nuevos conceptos, que superan y amplían conceptos antiguos ya conocidos. Entre ellos destacan los siguientes:\n",
    "\n",
    "### Clase\n",
    "Definiciones de las propiedades y comportamiento de un tipo de objeto concreto. La instanciación es la lectura de estas definiciones y la creación de un objeto a partir de ellas.\n",
    "\n",
    "### Atributos\n",
    "Características que tiene la clase\n",
    "\n",
    "### Objeto\n",
    "Instancia de una clase. Entidad provista de un conjunto de propiedades o atributos (datos) y de comportamiento o funcionalidad (métodos), los mismos que consecuentemente reaccionan a eventos. Se corresponden con los objetos reales del mundo que nos rodea, o con objetos internos del sistema (del programa). Es una instancia a una clase.\n",
    "\n",
    "### Método\n",
    "Algoritmo asociado a un objeto (o a una clase de objetos), cuya ejecución se desencadena tras la recepción de un “mensaje”. Desde el punto de vista del comportamiento, es lo que el objeto puede hacer. Un método puede producir un cambio en las propiedades del objeto, o la generación de un “evento” con un nuevo mensaje para otro objeto del sistema.\n",
    "\n",
    "### Propiedad o atributo\n",
    "Contenedor de un tipo de datos asociados a un objeto (o a una clase de objetos), que hace los datos visibles desde fuera del objeto y esto se define como sus características predeterminadas, y cuyo valor puede ser alterado por la ejecución de algún método.\n",
    "\n",
    "### Estado interno\n",
    "Es una variable que se declara privada, que puede ser únicamente accedida y alterada por un método del objeto, y que se utiliza para indicar distintas situaciones posibles para el objeto (o clase de objetos). No es visible al programador que maneja una instancia de la clase.\n",
    "\n",
    "Extraído de: <https://unipython.com/programacion-orientada-objetos-python/>"
   ]
  },
  {
   "cell_type": "code",
   "execution_count": 5,
   "metadata": {},
   "outputs": [
    {
     "name": "stdout",
     "output_type": "stream",
     "text": [
      "['__add__', '__class__', '__contains__', '__delattr__', '__delitem__', '__dir__', '__doc__', '__eq__', '__format__', '__ge__', '__getattribute__', '__getitem__', '__gt__', '__hash__', '__iadd__', '__imul__', '__init__', '__init_subclass__', '__iter__', '__le__', '__len__', '__lt__', '__mul__', '__ne__', '__new__', '__reduce__', '__reduce_ex__', '__repr__', '__reversed__', '__rmul__', '__setattr__', '__setitem__', '__sizeof__', '__str__', '__subclasshook__', 'append', 'clear', 'copy', 'count', 'extend', 'index', 'insert', 'pop', 'remove', 'reverse', 'sort']\n",
      "['__add__', '__class__', '__contains__', '__delattr__', '__dir__', '__doc__', '__eq__', '__format__', '__ge__', '__getattribute__', '__getitem__', '__getnewargs__', '__gt__', '__hash__', '__init__', '__init_subclass__', '__iter__', '__le__', '__len__', '__lt__', '__mod__', '__mul__', '__ne__', '__new__', '__reduce__', '__reduce_ex__', '__repr__', '__rmod__', '__rmul__', '__setattr__', '__sizeof__', '__str__', '__subclasshook__', 'capitalize', 'casefold', 'center', 'count', 'encode', 'endswith', 'expandtabs', 'find', 'format', 'format_map', 'index', 'isalnum', 'isalpha', 'isascii', 'isdecimal', 'isdigit', 'isidentifier', 'islower', 'isnumeric', 'isprintable', 'isspace', 'istitle', 'isupper', 'join', 'ljust', 'lower', 'lstrip', 'maketrans', 'partition', 'replace', 'rfind', 'rindex', 'rjust', 'rpartition', 'rsplit', 'rstrip', 'split', 'splitlines', 'startswith', 'strip', 'swapcase', 'title', 'translate', 'upper', 'zfill']\n"
     ]
    }
   ],
   "source": [
    "A = list()\n",
    "B=\"hola\"\n",
    "print(dir(A))\n",
    "print(dir(B))"
   ]
  },
  {
   "cell_type": "code",
   "execution_count": 1,
   "metadata": {},
   "outputs": [
    {
     "name": "stdout",
     "output_type": "stream",
     "text": [
      "Hola\n",
      "Hola\n",
      "Bienvenidos()\n",
      "Hola\n",
      "Bienvenidos()\n"
     ]
    },
    {
     "data": {
      "text/plain": [
       "['__add__',\n",
       " '__class__',\n",
       " '__contains__',\n",
       " '__delattr__',\n",
       " '__delitem__',\n",
       " '__dir__',\n",
       " '__doc__',\n",
       " '__eq__',\n",
       " '__format__',\n",
       " '__ge__',\n",
       " '__getattribute__',\n",
       " '__getitem__',\n",
       " '__gt__',\n",
       " '__hash__',\n",
       " '__iadd__',\n",
       " '__imul__',\n",
       " '__init__',\n",
       " '__init_subclass__',\n",
       " '__iter__',\n",
       " '__le__',\n",
       " '__len__',\n",
       " '__lt__',\n",
       " '__mul__',\n",
       " '__ne__',\n",
       " '__new__',\n",
       " '__reduce__',\n",
       " '__reduce_ex__',\n",
       " '__repr__',\n",
       " '__reversed__',\n",
       " '__rmul__',\n",
       " '__setattr__',\n",
       " '__setitem__',\n",
       " '__sizeof__',\n",
       " '__str__',\n",
       " '__subclasshook__',\n",
       " 'append',\n",
       " 'clear',\n",
       " 'copy',\n",
       " 'count',\n",
       " 'extend',\n",
       " 'index',\n",
       " 'insert',\n",
       " 'pop',\n",
       " 'remove',\n",
       " 'reverse',\n",
       " 'sort']"
      ]
     },
     "execution_count": 1,
     "metadata": {},
     "output_type": "execute_result"
    }
   ],
   "source": [
    "A = list()\n",
    "A.append('Hola')\n",
    "A.append('Bienvenidos()')\n",
    "print (A[0])\n",
    "print (A.__getitem__(0))\n",
    "print (A.__getitem__(1))\n",
    "print (list.__getitem__(A,0))\n",
    "print (list.__getitem__(A,1))\n",
    "dir(A)"
   ]
  },
  {
   "cell_type": "code",
   "execution_count": 15,
   "metadata": {},
   "outputs": [
    {
     "name": "stdout",
     "output_type": "stream",
     "text": [
      "<class '__main__.PartyAnimal'>\n",
      "5\n",
      "6\n",
      "7\n",
      "['__class__', '__delattr__', '__dict__', '__dir__', '__doc__', '__eq__', '__format__', '__ge__', '__getattribute__', '__gt__', '__hash__', '__init__', '__init_subclass__', '__le__', '__lt__', '__module__', '__ne__', '__new__', '__reduce__', '__reduce_ex__', '__repr__', '__setattr__', '__sizeof__', '__str__', '__subclasshook__', '__weakref__', 'party', 'x']\n",
      "<class '__main__.PartyAnimal'>\n",
      "7\n",
      "8\n",
      "9\n",
      "9\n",
      "10\n",
      "11\n",
      "11\n",
      "<class 'int'>\n",
      "<class 'method'>\n",
      "<class '__main__.PartyAnimal'>\n"
     ]
    },
    {
     "data": {
      "text/plain": [
       "['__class__',\n",
       " '__delattr__',\n",
       " '__dict__',\n",
       " '__dir__',\n",
       " '__doc__',\n",
       " '__eq__',\n",
       " '__format__',\n",
       " '__ge__',\n",
       " '__getattribute__',\n",
       " '__gt__',\n",
       " '__hash__',\n",
       " '__init__',\n",
       " '__init_subclass__',\n",
       " '__le__',\n",
       " '__lt__',\n",
       " '__module__',\n",
       " '__ne__',\n",
       " '__new__',\n",
       " '__reduce__',\n",
       " '__reduce_ex__',\n",
       " '__repr__',\n",
       " '__setattr__',\n",
       " '__sizeof__',\n",
       " '__str__',\n",
       " '__subclasshook__',\n",
       " '__weakref__',\n",
       " 'party',\n",
       " 'x']"
      ]
     },
     "execution_count": 15,
     "metadata": {},
     "output_type": "execute_result"
    }
   ],
   "source": [
    "#Ejemplo de clase como tipos:\n",
    "class PartyAnimal:\n",
    "    x = 5   \n",
    "    def party(self) :\n",
    "        self.x = self.x + 1        \n",
    "        print(self.x)\n",
    "    \n",
    "an1 = PartyAnimal() #instanciando (creando) objteto de tipo PartyAnimal\n",
    "print(type(an1))\n",
    "print(an1.x)\n",
    "an1.x=6\n",
    "print(an1.x)\n",
    "an1.party()\n",
    "\n",
    "\n",
    "print(dir(an1))\n",
    "print(type(an1))\n",
    "print(an1.x)\n",
    "PartyAnimal.party(an1)\n",
    "an1.party()\n",
    "print(an1.x)\n",
    "an1.party()\n",
    "PartyAnimal.party(an1)\n",
    "print(an1.x)\n",
    "print(type(an1.x))\n",
    "print(type(an1.party))\n",
    "print(type(an1))\n",
    "dir(an1)"
   ]
  },
  {
   "cell_type": "code",
   "execution_count": 20,
   "metadata": {},
   "outputs": [
    {
     "name": "stdout",
     "output_type": "stream",
     "text": [
      "Objeto construído\n",
      "<__main__.PartyAnimal object at 0x0000019F0F9D3A30>\n",
      "Desde aquí:  1\n",
      "Desde aquí:  2\n",
      "Objeto destruído 2\n"
     ]
    },
    {
     "ename": "NameError",
     "evalue": "name 'an' is not defined",
     "output_type": "error",
     "traceback": [
      "\u001b[1;31m---------------------------------------------------------------------------\u001b[0m",
      "\u001b[1;31mNameError\u001b[0m                                 Traceback (most recent call last)",
      "\u001b[1;32m<ipython-input-20-389afeb1274b>\u001b[0m in \u001b[0;36m<module>\u001b[1;34m\u001b[0m\n\u001b[0;32m     21\u001b[0m \u001b[1;31m#an = 42\u001b[0m\u001b[1;33m\u001b[0m\u001b[1;33m\u001b[0m\u001b[1;33m\u001b[0m\u001b[0m\n\u001b[0;32m     22\u001b[0m \u001b[1;32mdel\u001b[0m\u001b[1;33m(\u001b[0m\u001b[0man\u001b[0m\u001b[1;33m)\u001b[0m\u001b[1;33m\u001b[0m\u001b[1;33m\u001b[0m\u001b[0m\n\u001b[1;32m---> 23\u001b[1;33m \u001b[0mprint\u001b[0m\u001b[1;33m(\u001b[0m\u001b[0man\u001b[0m\u001b[1;33m)\u001b[0m\u001b[1;33m\u001b[0m\u001b[1;33m\u001b[0m\u001b[0m\n\u001b[0m",
      "\u001b[1;31mNameError\u001b[0m: name 'an' is not defined"
     ]
    }
   ],
   "source": [
    "class PartyAnimal:\n",
    "   x = 0\n",
    "\n",
    "   def __init__(self):\n",
    "     print('Objeto construído')\n",
    "\n",
    "   def party(self) :\n",
    "     self.x = self.x + 1\n",
    "     print('Desde aquí: ',self.x)\n",
    "\n",
    "   def __del__(self):\n",
    "    print('Objeto destruído', self.x)\n",
    "        \n",
    "   #def __str__(self):\n",
    "    #    return \"Retorna una cadena\"\n",
    "\n",
    "an = PartyAnimal()\n",
    "print(an)\n",
    "an.party()\n",
    "an.party()\n",
    "#an = 42\n",
    "del(an)\n",
    "print(an)"
   ]
  },
  {
   "cell_type": "code",
   "execution_count": 6,
   "metadata": {},
   "outputs": [
    {
     "name": "stdout",
     "output_type": "stream",
     "text": [
      "Sally construído\n",
      "Sally\n",
      "10\n",
      "Sally contador 11\n",
      "['__class__', '__delattr__', '__dict__', '__dir__', '__doc__', '__eq__', '__format__', '__ge__', '__getattribute__', '__gt__', '__hash__', '__init__', '__init_subclass__', '__le__', '__lt__', '__module__', '__ne__', '__new__', '__reduce__', '__reduce_ex__', '__repr__', '__setattr__', '__sizeof__', '__str__', '__subclasshook__', '__weakref__', 'name', 'party', 'x']\n"
     ]
    },
    {
     "data": {
      "text/plain": [
       "'\\nh = PartyAnimal()\\nprint(h.name)\\nprint(h.x)\\nh.party()\\nh.party()\\nprint(h.x)\\n'"
      ]
     },
     "execution_count": 6,
     "metadata": {},
     "output_type": "execute_result"
    }
   ],
   "source": [
    "## Ejemplo de múltiples instancias:\n",
    "class PartyAnimal:\n",
    "   x = 0\n",
    "   name = ''\n",
    "   def __init__(self, nombre=\"Tobby\",x=10):  # método de instanciación (crea objeto)\n",
    "     self.name = nombre\n",
    "     self.x = x\n",
    "     print(self.name,'construído')\n",
    "\n",
    "   def party(self) :\n",
    "     self.x = self.x + 1\n",
    "     print(self.name,'contador',self.x)\n",
    "\n",
    "s = PartyAnimal('Sally')\n",
    "print(s.name)\n",
    "print(s.x)\n",
    "s.party()\n",
    "print(dir(s))\n",
    "'''\n",
    "h = PartyAnimal()\n",
    "print(h.name)\n",
    "print(h.x)\n",
    "h.party()\n",
    "h.party()\n",
    "print(h.x)\n",
    "'''\n"
   ]
  },
  {
   "cell_type": "code",
   "execution_count": 49,
   "metadata": {},
   "outputs": [
    {
     "name": "stdout",
     "output_type": "stream",
     "text": [
      "{'Nombre': 'Carlos', 'Apellidos': 'Sánchez Ortega', 'dni': '95486312'} -> BORRADO\n"
     ]
    },
    {
     "data": {
      "text/plain": [
       "[{'Nombre': 'Juan', 'Apellidos': 'Sanchez González', 'dni': '18196012'},\n",
       " {'Nombre': 'Angela', 'Apellidos': 'Pérez Ortega', 'dni': '25677717'}]"
      ]
     },
     "execution_count": 49,
     "metadata": {},
     "output_type": "execute_result"
    }
   ],
   "source": [
    "## Ejemplo programación estructurada\n",
    "\n",
    "clientes = [{'Nombre':'Carlos','Apellidos':'Sánchez Ortega','dni':'95486312'},{'Nombre':'Juan','Apellidos':'Sanchez González','dni':'18196012'},\n",
    "           {'Nombre':'Angela','Apellidos':'Pérez Ortega','dni':'25677717'}]\n",
    "\n",
    "#función mostrar_Cliente:\n",
    "def mostrar_cliente(clientes, dni):\n",
    "    for i in clientes:\n",
    "        if (dni == i['dni']):\n",
    "            print('{} {}'.format(i['Nombre'],i['Apellidos']))                   \n",
    "            return \n",
    "    print('Cliente no encontrado')\n",
    "       \n",
    "\n",
    "#función borrar_Cliente:\n",
    "def borrar_cliente(clientes, dni):\n",
    "    for i,c in enumerate(clientes):\n",
    "        if (dni == c['dni']):\n",
    "            del(clientes[i])\n",
    "            print(str(c),'-> BORRADO')\n",
    "            return\n",
    "    print('Cliente no encontrado')\n",
    "'''\n",
    "#mostrar_cliente(clientes, '95476312')\n",
    "d=mostrar_cliente(clientes, '95486312')\n",
    "print(d)\n",
    "'''\n",
    "borrar_cliente(clientes, '95486312')\n",
    "clientes"
   ]
  },
  {
   "cell_type": "code",
   "execution_count": 8,
   "metadata": {
    "scrolled": true
   },
   "outputs": [
    {
     "name": "stdout",
     "output_type": "stream",
     "text": [
      "['__class__', '__delattr__', '__dict__', '__dir__', '__doc__', '__eq__', '__format__', '__ge__', '__getattribute__', '__gt__', '__hash__', '__init__', '__init_subclass__', '__le__', '__lt__', '__module__', '__ne__', '__new__', '__reduce__', '__reduce_ex__', '__repr__', '__setattr__', '__sizeof__', '__str__', '__subclasshook__', '__weakref__', 'borrar_cliente', 'clientes', 'mostrar_cliente']\n",
      "<class '__main__.Empresa'>\n",
      "Cliente no encontrado\n",
      "Juan Sanchez González\n",
      "Carlos Sánchez Ortega\n",
      "Angela Pérez Ortega\n",
      "Carlos Sánchez Ortega -> BORRADO\n",
      "Cliente no encontrado\n"
     ]
    },
    {
     "data": {
      "text/plain": [
       "'[<__main__.Cliente object at 0x000001CAF213EE50>, <__main__.Cliente object at 0x000001CAF213ED90>]'"
      ]
     },
     "execution_count": 8,
     "metadata": {},
     "output_type": "execute_result"
    }
   ],
   "source": [
    "## Ejemplo programación Orientada a Objetos (POO)\n",
    "class Cliente:\n",
    "    def __init__ (self, dni, nombre, apellidos): #método constructor\n",
    "        self.dni = dni\n",
    "        self.nombre = nombre\n",
    "        self.apellidos = apellidos\n",
    "\n",
    "    def __str__(self):\n",
    "        return('{} {}'.format(self.nombre,self.apellidos))\n",
    "\n",
    "###creando objetos cliente:    \n",
    "cliente1 = Cliente(nombre='Carlos',apellidos='Sánchez Ortega',dni='95486312')\n",
    "cliente2 = Cliente(nombre='Juan',apellidos='Sanchez González',dni='18196012')\n",
    "cliente3 = Cliente(nombre='Angela',apellidos='Pérez Ortega',dni='25677717')\n",
    "'''\n",
    "print(type(cliente1))\n",
    "print(cliente1)\n",
    "print(str(cliente1))\n",
    "print(dir(cliente1))\n",
    "print(cliente1.dni)\n",
    "'''\n",
    "class Empresa:\n",
    "    def __init__(self, clientes=[]): #método constructor\n",
    "        self.clientes = clientes\n",
    "\n",
    "    def mostrar_cliente(self, dni=None):\n",
    "        for c in self.clientes:\n",
    "            if c.dni == dni:\n",
    "                print(c)\n",
    "                return\n",
    "        print(\"Cliente no encontrado\")\n",
    "        \n",
    "\n",
    "    def borrar_cliente(self, dni=None):\n",
    "        for i,c in enumerate(self.clientes):          \n",
    "            if c.dni == dni:              \n",
    "                del(self.clientes[i])\n",
    "                print(str(c),\"-> BORRADO\")\n",
    "                return\n",
    "        print(\"Cliente no encontrado\")\n",
    "\n",
    "#creando objeto empresa\n",
    "empr1 = Empresa(clientes=[cliente1,cliente2,cliente3]) #Se instancia o se crea un objeto de tipo Empresa\n",
    "print(dir(empr1))\n",
    "print(type(empr1))\n",
    "empr1.mostrar_cliente('95487312')\n",
    "empr1.mostrar_cliente(dni='18196012')\n",
    "empr1.mostrar_cliente(dni='95486312')\n",
    "empr1.mostrar_cliente(dni='25677717')\n",
    "empr1.borrar_cliente('95486312')\n",
    "empr1.borrar_cliente('95486999')\n",
    "\n",
    "str(empr1.clientes)\n"
   ]
  },
  {
   "cell_type": "code",
   "execution_count": 10,
   "metadata": {},
   "outputs": [
    {
     "data": {
      "text/plain": [
       "<__main__.Empresa at 0x1caf213ec70>"
      ]
     },
     "execution_count": 10,
     "metadata": {},
     "output_type": "execute_result"
    }
   ],
   "source": [
    "empr1"
   ]
  },
  {
   "cell_type": "markdown",
   "metadata": {},
   "source": [
    "Entre las características de la POO tenemos: Herencia, Polimorfismo, Abstracción y Encapsulamiento\n",
    "\n",
    "## Herencia\n",
    "La Herencia explica que puede crearse un objeto a partir de otro objeto ya existente. El nuevo objeto hereda todas las cualidades del objeto del que deriva y además puede añadir nuevas funcionalidades o modificar las ya existentes."
   ]
  },
  {
   "cell_type": "code",
   "execution_count": 10,
   "metadata": {},
   "outputs": [
    {
     "name": "stdout",
     "output_type": "stream",
     "text": [
      "Sally construído\n",
      "<class '__main__.PartyAnimal'>\n",
      "Tobby construído\n",
      "<class '__main__.CricketFan'>\n",
      "Tobby\n",
      "10\n"
     ]
    }
   ],
   "source": [
    "class CricketFan(PartyAnimal): #CricketFan es una subclase (hereda) de PartyAnimal\n",
    "   p = 0\n",
    "   def six(self):\n",
    "      self.points = self.p + 6\n",
    "      self.party()\n",
    "      print(self.name,\"p\",self.points)\n",
    "\n",
    "s = PartyAnimal(\"Sally\")\n",
    "#s.party()\n",
    "#print(s.name)\n",
    "print(type(s))\n",
    "\n",
    "j = CricketFan()\n",
    "#j.party()\n",
    "print(type(j))\n",
    "print(j.name)\n",
    "print(j.x)\n",
    "\n",
    "#j.six()\n",
    "#print(dir(s))\n",
    "#print(dir(j))"
   ]
  },
  {
   "cell_type": "code",
   "execution_count": 28,
   "metadata": {},
   "outputs": [
    {
     "name": "stdout",
     "output_type": "stream",
     "text": [
      "['__class__', '__del__', '__delattr__', '__dict__', '__dir__', '__doc__', '__eq__', '__format__', '__ge__', '__getattribute__', '__gt__', '__hash__', '__init__', '__init_subclass__', '__le__', '__lt__', '__module__', '__ne__', '__new__', '__reduce__', '__reduce_ex__', '__repr__', '__setattr__', '__sizeof__', '__str__', '__subclasshook__', '__weakref__', 'colgar', 'fotografiar', 'reproducirmp3', 'reproducirvideo', 'telefonear']\n",
      "reproduciendo mp3\n",
      "llamando\n",
      "fotografiando\n",
      "Móvil apagado\n",
      "True\n",
      "True\n",
      "False\n",
      "Móvil apagado\n",
      "True\n",
      "True\n"
     ]
    }
   ],
   "source": [
    "## Herencia múltipĺe\n",
    "class Telefono:\n",
    "    \"Clase teléfono\"\n",
    "    def __init__(self):\n",
    "        pass\n",
    "    def telefonear(self):\n",
    "        print('llamando')\n",
    "    def colgar(self):\n",
    "        print('colgando')        \n",
    "\n",
    "class Camara:\n",
    "    \"Clase camara fotográfica\"\n",
    "    def __init__(self):\n",
    "        pass\n",
    "    def fotografiar(self):\n",
    "        print('fotografiando')        \n",
    "\n",
    "class Reproductor:\n",
    "    \"Clase Reproductor Mp3\"\n",
    "    def __init__(self):\n",
    "        pass\n",
    "    def reproducirmp3(self):\n",
    "        print('reproduciendo mp3')                  \n",
    "    def reproducirvideo(self):\n",
    "        print('reproduciendo video')                  \n",
    "\n",
    "class Movil(Telefono, Camara, Reproductor):\n",
    "    def __del__(self):\n",
    "        print('Móvil apagado')\n",
    "\n",
    "movil1 = Movil()\n",
    "print(dir(movil1))\n",
    "#print(type(movil1))\n",
    "movil1.reproducirmp3()\n",
    "movil1.telefonear()\n",
    "movil1.fotografiar()\n",
    "del(movil1)\n",
    "#print(movil1)\n",
    "\n",
    "print(issubclass(Movil, Telefono))  \n",
    "print(issubclass(Movil, Reproductor)) \n",
    "print(issubclass(Reproductor,Movil)) \n",
    "movil2 = Movil()\n",
    "print(isinstance(movil2, Movil))  \n",
    "print(isinstance(movil2, Camara)) "
   ]
  },
  {
   "cell_type": "code",
   "execution_count": 15,
   "metadata": {},
   "outputs": [
    {
     "name": "stdout",
     "output_type": "stream",
     "text": [
      "[5, 6, 8, 9]\n"
     ]
    }
   ],
   "source": [
    "a=[5,6,8,9]\n",
    "for i in a:\n",
    "   pass    \n",
    "print(a)"
   ]
  },
  {
   "cell_type": "markdown",
   "metadata": {},
   "source": [
    "# Polimorfismo\n",
    "\n",
    "Una operación puede presentar diferentes comportamientos en diferentes instancias. El comportamiento depende de los tipos de datos utilizados en la operación. El polimorfismo es ampliamente utilizado en la aplicación de la herencia.\n",
    "El polimorfismo se puede entender como la capacidad para tomar más de una forma."
   ]
  },
  {
   "cell_type": "code",
   "execution_count": 16,
   "metadata": {},
   "outputs": [
    {
     "name": "stdout",
     "output_type": "stream",
     "text": [
      "mensaje desde la clase Obrero\n"
     ]
    },
    {
     "data": {
      "text/plain": [
       "['_Obrero__especialista',\n",
       " '__class__',\n",
       " '__delattr__',\n",
       " '__dict__',\n",
       " '__dir__',\n",
       " '__doc__',\n",
       " '__eq__',\n",
       " '__format__',\n",
       " '__ge__',\n",
       " '__getattribute__',\n",
       " '__gt__',\n",
       " '__hash__',\n",
       " '__init__',\n",
       " '__init_subclass__',\n",
       " '__le__',\n",
       " '__lt__',\n",
       " '__module__',\n",
       " '__ne__',\n",
       " '__new__',\n",
       " '__reduce__',\n",
       " '__reduce_ex__',\n",
       " '__repr__',\n",
       " '__setattr__',\n",
       " '__sizeof__',\n",
       " '__str__',\n",
       " '__subclasshook__',\n",
       " '__weakref__',\n",
       " 'mensaje']"
      ]
     },
     "execution_count": 16,
     "metadata": {},
     "output_type": "execute_result"
    }
   ],
   "source": [
    "##Sobrecarga de métodos\n",
    "class Persona():\n",
    "     def __init__(self):\n",
    "         self.dni = 13765890\n",
    "        \n",
    "     def mensaje(self):\n",
    "         print(\"mensaje desde la clase Persona\")\n",
    "\n",
    "class Obrero(Persona):\n",
    "    def __init__(self):\n",
    "         self.__especialista = 1\n",
    "        \n",
    "    def mensaje(self):\n",
    "        print(\"mensaje desde la clase Obrero\")\n",
    "\n",
    "obrero1 = Obrero()\n",
    "obrero1.mensaje()\n",
    "dir(obrero1)"
   ]
  },
  {
   "cell_type": "code",
   "execution_count": 21,
   "metadata": {},
   "outputs": [
    {
     "name": "stdout",
     "output_type": "stream",
     "text": [
      "(5, 4)\n"
     ]
    }
   ],
   "source": [
    "##Sobrecarga de operadores\n",
    "class Punto:\n",
    "    def __init__(self,x = 0,y = 0):\n",
    "         self.x = x\n",
    "         self.y = y\n",
    "    def __add__(self,other):\n",
    "         x = self.x + other.x\n",
    "         y = self.y + other.y\n",
    "         return x, y\n",
    "\n",
    "punto1 = Punto(4,6)\n",
    "punto2 = Punto(1,-2)\n",
    "print (punto1 + punto2)"
   ]
  },
  {
   "cell_type": "markdown",
   "metadata": {},
   "source": [
    "# Encapsulamiento"
   ]
  },
  {
   "cell_type": "code",
   "execution_count": null,
   "metadata": {},
   "outputs": [],
   "source": [
    "class Persona:\n",
    "    def __init__(self,sexo,nombre=\"Fulanito\",edad=20):\n",
    "        self.nombre = nombre        \n",
    "        self.edad = edad\n",
    "        self.__sexo= sexo #\"encapsulando\"? el atributo sexo\n",
    "\n",
    "    def getSexo(self): #método para acceder al atributo sexo\n",
    "        return self.__sexo\n",
    "\n",
    "    def setSexo(self,sexo):#método para modificar el atributo Sexo\n",
    "        self.__sexo=sexo        \n",
    "\n",
    "    def __comer(self,alimento): #método \"encapsulado\"\n",
    "        texto= str(self.nombre+\" está comiendo \"+alimento)\n",
    "        print(texto)\n",
    "        \n",
    "    def iniciales(self):\n",
    "        cadena = ''\n",
    "        for caracter in self.nombre:\n",
    "            if caracter >= 'A' and caracter <= 'Z':\n",
    "                cadena = cadena + caracter + '.'\n",
    "        return cadena\n",
    "##Crear una función de nombre \"dormir\" dentro de la clase persona que tenga como\n",
    "## atributo (parámetro) un entero positivo x, que muestre\n",
    "## un mensaje indicando la persona duerme x horas.\n",
    "\n",
    "    def dormir(self,n):\n",
    "        mensaje=str(self.nombre)+\" La persona duerme\"+str(n)+\" horas.\"\n",
    "        return mensaje\n",
    "\n",
    "    def nacimiento(self):\n",
    "        anho_nacim = 2022-self.edad\n",
    "        return anho_nacim\n",
    "    \n",
    "    def __str__(self):\n",
    "        cadena = \"Nombre: {0}\\n\".format(self.nombre)        \n",
    "        cadena = cadena + \"Edad: {0}\\n\".format(self.edad)\n",
    "        cadena = cadena +\"Sexo: {0}\\n\".format(self.__sexo)\n",
    "        return cadena\n",
    "\n",
    "####==========================================================####\n",
    "    \n",
    "per1 = Persona(nombre=\"María Pérez\", sexo=\"F\",edad=20)\n",
    "\n",
    "#Función para crear una lista de personas:\n",
    "def crearPersona(n):\n",
    "    lista=[]\n",
    "    for i in range(n):\n",
    "        prov=Persona(\"F\",\"Fernanda\")\n",
    "        lista.append(prov)\n",
    "    return lista\n",
    "\n",
    "L=crearPersona(2)\n",
    "#print(L)\n"
   ]
  },
  {
   "cell_type": "markdown",
   "metadata": {},
   "source": [
    "# References\n",
    "http://www.marinamele.com/2014/04/modifying-add-method-of-python-class.html"
   ]
  }
 ],
 "metadata": {
  "kernelspec": {
   "display_name": "Python 3",
   "language": "python",
   "name": "python3"
  },
  "language_info": {
   "codemirror_mode": {
    "name": "ipython",
    "version": 3
   },
   "file_extension": ".py",
   "mimetype": "text/x-python",
   "name": "python",
   "nbconvert_exporter": "python",
   "pygments_lexer": "ipython3",
   "version": "3.12.3"
  }
 },
 "nbformat": 4,
 "nbformat_minor": 2
}
